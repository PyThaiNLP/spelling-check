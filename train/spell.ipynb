{
 "cells": [
  {
   "cell_type": "markdown",
   "metadata": {},
   "source": [
    "# Import"
   ]
  },
  {
   "cell_type": "code",
   "execution_count": 1,
   "metadata": {},
   "outputs": [],
   "source": [
    "import codecs\n",
    "from pythainlp.tokenize import syllable_tokenize as word_tokenize\n",
    "from pythainlp.tokenize import tcc\n",
    "#import deepcut\n",
    "from pythainlp.tag import pos_tag\n",
    "from nltk.tokenize import RegexpTokenizer\n",
    "import glob\n",
    "import nltk\n",
    "import re\n",
    "# thai cut\n",
    "thaicut=\"newmm\"\n",
    "from sklearn_crfsuite import scorers,metrics\n",
    "from sklearn.metrics import make_scorer\n",
    "from sklearn.model_selection import cross_validate,train_test_split\n",
    "import sklearn_crfsuite\n",
    "from pythainlp.corpus import stopwords\n",
    "stopwords = stopwords.words('thai')\n",
    "from pythainlp.corpus.thaisyllable import get_data as syllable_dict"
   ]
  },
  {
   "cell_type": "markdown",
   "metadata": {},
   "source": [
    "# จัดการ BBcode"
   ]
  },
  {
   "cell_type": "code",
   "execution_count": 2,
   "metadata": {},
   "outputs": [],
   "source": [
    "data_not=[]\n",
    "def Unique(p):\n",
    " global data_not\n",
    " text=re.sub(\"<[^>]*>\",\"\",p)\n",
    " text=re.sub(\"\\[(.*?)\\]\",\"\",text)\n",
    " text=re.sub(\"\\[\\/(.*?)\\]\",\"\",text)\n",
    " if text not in data_not:\n",
    "  data_not.append(text)\n",
    "  return True\n",
    " else:\n",
    "  return False"
   ]
  },
  {
   "cell_type": "code",
   "execution_count": 3,
   "metadata": {},
   "outputs": [],
   "source": [
    "# เตรียมตัวตัด tag ด้วย re\n",
    "pattern = r'\\[(.*?)\\](.*?)\\[\\/(.*?)\\]'\n",
    "tokenizer = RegexpTokenizer(pattern) # ใช้ nltk.tokenize.RegexpTokenizer เพื่อตัด [TIME]8.00[/TIME] ให้เป็น ('TIME','ไง','TIME')"
   ]
  },
  {
   "cell_type": "code",
   "execution_count": 4,
   "metadata": {},
   "outputs": [],
   "source": [
    "# จัดการกับ tag ที่ไม่ได้ tag\n",
    "def toolner_to_tag(text):\n",
    " text=text.strip().replace(\"FACILITY\",\"LOCATION\").replace(\"[AGO]\",\"\").replace(\"[/AGO]\",\"\").replace(\"[T]\",\"\").replace(\"[/T]\",\"\")\n",
    " text=re.sub(\"<[^>]*>\",\"\",text)\n",
    " text=re.sub(\"(\\[\\/(.*?)\\])\",\"\\\\1***\",text)#.replace('(\\[(.*?)\\])','***\\\\1')# text.replace('>','>***') # ตัดการกับพวกไม่มี tag word\n",
    " text=re.sub(\"(\\[\\w+\\])\",\"***\\\\1\",text)\n",
    " text2=[]\n",
    " for i in text.split('***'):\n",
    "  if \"[\" in i:\n",
    "   text2.append(i)\n",
    "  else:\n",
    "   text2.append(\"[word]\"+i+\"[/word]\")\n",
    " text=\"\".join(text2)#re.sub(\"[word][/word]\",\"\",\"\".join(text2))\n",
    " return text.replace(\"[word][/word]\",\"\")"
   ]
  },
  {
   "cell_type": "code",
   "execution_count": 5,
   "metadata": {},
   "outputs": [],
   "source": [
    "# แปลง text ให้เป็น conll2002\n",
    "def text2conll2002(text,pos=True):\n",
    "    \"\"\"\n",
    "    ใช้แปลงข้อความให้กลายเป็น conll2002\n",
    "    \"\"\"\n",
    "    text=toolner_to_tag(text)\n",
    "    text=text.replace(\"''\",'\"')\n",
    "    text=text.replace(\"’\",'\"').replace(\"‘\",'\"')#.replace('\"',\"\")\n",
    "    tag=tokenizer.tokenize(text)\n",
    "    j=0\n",
    "    conll2002=\"\"\n",
    "    for tagopen,text,tagclose in tag:\n",
    "        word_cut=word_tokenize(text)#,engine=thaicut) # ใช้ตัวตัดคำ newmm\n",
    "        i=0\n",
    "        txt5=\"\"\n",
    "        while i<len(word_cut):\n",
    "            if word_cut[i]==\"''\" or word_cut[i]=='\"':pass\n",
    "            elif i==0 and tagopen!='word':\n",
    "                txt5+=word_cut[i]\n",
    "                txt5+='\\t'+'B-'+tagopen\n",
    "            elif tagopen!='word':\n",
    "                txt5+=word_cut[i]\n",
    "                txt5+='\\t'+'I-'+tagopen\n",
    "            else:\n",
    "                txt5+=word_cut[i]\n",
    "                txt5+='\\t'+'O'\n",
    "            txt5+='\\n'\n",
    "            #j+=1\n",
    "            i+=1\n",
    "        conll2002+=txt5\n",
    "    if pos==False:\n",
    "        return conll2002\n",
    "    return conll2002"
   ]
  },
  {
   "cell_type": "code",
   "execution_count": 6,
   "metadata": {},
   "outputs": [],
   "source": [
    "# เขียนไฟล์ข้อมูล conll2002\n",
    "def write_conll2002(file_name,data):\n",
    "    \"\"\"\n",
    "    ใช้สำหรับเขียนไฟล์\n",
    "    \"\"\"\n",
    "    with codecs.open(file_name, \"w\", \"utf-8-sig\") as temp:\n",
    "        temp.write(data)\n",
    "    return True\n",
    "# อ่านข้อมูลจากไฟล์\n",
    "def get_data(fileopen):\n",
    "\t\"\"\"\n",
    "    สำหรับใช้อ่านทั้งหมดทั้งในไฟล์ทีละรรทัดออกมาเป็น list\n",
    "    \"\"\"\n",
    "\twith codecs.open(fileopen, 'r',encoding='utf-8-sig') as f:\n",
    "\t\tlines = f.read().splitlines()\n",
    "\treturn [a for a in lines if Unique(a)] # เอาไม่ซ้ำกัน\n",
    "\n",
    "def alldata(lists):\n",
    "    text=\"\"\n",
    "    for data in lists:\n",
    "        text+=text2conll2002(data)\n",
    "        text+='\\n'\n",
    "    return text\n",
    "\n",
    "def alldata_list(lists):\n",
    "    data_all=[]\n",
    "    for data in lists:\n",
    "        data_num=[]\n",
    "        try:\n",
    "            txt=text2conll2002(data,pos=True).split('\\n')\n",
    "            for d in txt:\n",
    "                tt=d.split('\\t')\n",
    "                if d!=\"\":\n",
    "                    if len(tt)==3:\n",
    "                        data_num.append((tt[0],tt[1],tt[2]))\n",
    "                    else:\n",
    "                        data_num.append((tt[0],tt[1]))\n",
    "            #print(data_num)\n",
    "            data_all.append(data_num)\n",
    "        except:\n",
    "            print(data)\n",
    "    #print(data_all)\n",
    "    return data_all\n",
    "\n",
    "def alldata_list_str(lists):\n",
    "\tstring=\"\"\n",
    "\tfor data in lists:\n",
    "\t\tstring1=\"\"\n",
    "\t\tfor j in data:\n",
    "\t\t\tstring1+=j[0]+\"\t\"+j[1]+\"\t\"+j[2]+\"\\n\"\n",
    "\t\tstring1+=\"\\n\"\n",
    "\t\tstring+=string1\n",
    "\treturn string\n",
    "\n",
    "def get_data_tag(listd):\n",
    "\tlist_all=[]\n",
    "\tc=[]\n",
    "\tfor i in listd:\n",
    "\t\tif i !='':\n",
    "\t\t\tc.append((i.split(\"\\t\")[0],i.split(\"\\t\")[1],i.split(\"\\t\")[2]))\n",
    "\t\telse:\n",
    "\t\t\tlist_all.append(c)\n",
    "\t\t\tc=[]\n",
    "\treturn list_all\n",
    "def getall(lista):\n",
    "    ll=[]\n",
    "    for i in lista:\n",
    "        o=True\n",
    "        for j in ll:\n",
    "            if re.sub(\"\\[(.*?)\\]\",\"\",i)==re.sub(\"\\[(.*?)\\]\",\"\",j):\n",
    "                o=False\n",
    "                break\n",
    "        if o==True:\n",
    "            ll.append(i)\n",
    "    return ll"
   ]
  },
  {
   "cell_type": "markdown",
   "metadata": {},
   "source": [
    "# Load data"
   ]
  },
  {
   "cell_type": "code",
   "execution_count": 7,
   "metadata": {},
   "outputs": [
    {
     "name": "stdout",
     "output_type": "stream",
     "text": [
      "1785\n"
     ]
    }
   ],
   "source": [
    "data=getall(get_data(\"data.txt\"))\n",
    "print(len(data))"
   ]
  },
  {
   "cell_type": "code",
   "execution_count": 8,
   "metadata": {},
   "outputs": [],
   "source": [
    "datatofile=alldata_list(data)"
   ]
  },
  {
   "cell_type": "code",
   "execution_count": 9,
   "metadata": {},
   "outputs": [
    {
     "data": {
      "text/plain": [
       "[('ได้', 'O'),\n",
       " ('ข้อ', 'O'),\n",
       " ('มูล', 'O'),\n",
       " ('ที่', 'O'),\n",
       " ('มี', 'O'),\n",
       " ('ป', 'B-S'),\n",
       " ('ระ', 'I-S'),\n",
       " ('โย', 'I-S'),\n",
       " ('ด', 'I-S'),\n",
       " ('มา', 'O'),\n",
       " ('คง', 'O'),\n",
       " ('ดี', 'O'),\n",
       " ('นะ', 'O'),\n",
       " ('ครับ', 'O')]"
      ]
     },
     "execution_count": 9,
     "metadata": {},
     "output_type": "execute_result"
    }
   ],
   "source": [
    "datatofile[0]"
   ]
  },
  {
   "cell_type": "markdown",
   "metadata": {},
   "source": [
    "# คุณสมบัติ"
   ]
  },
  {
   "cell_type": "code",
   "execution_count": 10,
   "metadata": {},
   "outputs": [],
   "source": [
    "import string\n",
    "invalidChars = set(string.punctuation.replace(\"_\", \"\"))\n",
    "dict_s=list(set(syllable_dict()))\n",
    "def c(word):\n",
    "    for i in list('กขฃคฆงจชซญฎฏฐฑฒณดตถทธนบปพฟภมยรลวศษสฬอ'):\n",
    "        if i in word:\n",
    "            return True\n",
    "    return False\n",
    "def n(word):\n",
    "    for i in list('ฅฉผฟฌหฮ'):\n",
    "        if i in word:\n",
    "            return True\n",
    "    return False\n",
    "def v(word):\n",
    "    for i in list('ะาำิีืึุู'):\n",
    "        if i in word:\n",
    "            return True\n",
    "    return False\n",
    "def w(word):\n",
    "    for i in list('เแโใไ'):\n",
    "        if i in word:\n",
    "            return True\n",
    "    return False\n",
    "def is_special_characters(w):\n",
    "    if any(char in invalidChars for char in w):\n",
    "        return True\n",
    "    else:\n",
    "        return False\n",
    "def is_numthai(w):\n",
    "    return w in list(\"๑๒๓๔๕๖๗๘๙๐\")\n",
    "def lenbytcc(w):\n",
    "    return tcc.tcc(w, sep=\"|=/=|\").count('|=/=|')\n",
    "def in_dict(word):\n",
    "    return word in dict_s\n",
    "def has_silencer(word):\n",
    "    for i in list('์ๆฯ.'):\n",
    "        if i in word:\n",
    "            return True\n",
    "    return False\n",
    "def has_tonemarks(word):\n",
    "    t=False\n",
    "    for i in ['่','้','็','๊','๋']:\n",
    "        if i in word:\n",
    "            t=True\n",
    "    return t\n",
    "def isThai(chr):\n",
    " cVal = ord(chr)\n",
    " if(cVal >= 3584 and cVal <= 3711):\n",
    "  return True\n",
    " return False\n",
    "def isThaiWord(word):\n",
    " t=True\n",
    " for i in word:\n",
    "  l=isThai(i)\n",
    "  if l!=True and i!='.':\n",
    "   t=False\n",
    "   break\n",
    " return t\n",
    "\n",
    "def is_stopword(word):\n",
    "    return word in stopwords\n",
    "def is_s(word):\n",
    "    if word == \" \" or word ==\"\\t\" or word==\"\" or word==\"\\r\\n\" or word==\"\\n\":\n",
    "        return True\n",
    "    else:\n",
    "        return False\n",
    "\n",
    "def lennum(word,num):\n",
    "    if len(word)==num:\n",
    "        return True\n",
    "    return False\n",
    "def doc2features(doc, i):\n",
    "    word = doc[i][0]\n",
    "    # Features from current word\n",
    "    features={\n",
    "        'word.word': word,\n",
    "        'word.stopword': is_stopword(word),\n",
    "        'word.isthai':isThaiWord(word),\n",
    "        'word.isnumthai':is_numthai(word),\n",
    "        'word.isspace':word.isspace(),\n",
    "        'word.tonemarks':has_tonemarks(word),\n",
    "        'word.in_dict':in_dict(word),\n",
    "        'word.silencer':has_silencer(word),\n",
    "        'word.isdigit': word.isdigit(),\n",
    "        'word.lentcc':lenbytcc(word),\n",
    "        'word.c':c(word),\n",
    "        'word.n':n(word),\n",
    "        'word.v':v(word),\n",
    "        'word.w':w(word),\n",
    "        'word.is_special_characters':is_special_characters(word)\n",
    "    }\n",
    "    if i > 0:\n",
    "        prevword = doc[i-1][0]\n",
    "        features['word.prevword'] = prevword\n",
    "        features['word.previsspace']=prevword.isspace()\n",
    "        features['word.previsthai']=isThaiWord(prevword)\n",
    "        features['word.prevstopword']=is_stopword(prevword)\n",
    "        features['word.prevtonemarks']=has_tonemarks(prevword)\n",
    "        features['word.previn_dict']=in_dict(prevword)\n",
    "        features['word.previn_isnumthai']=is_numthai(prevword)\n",
    "        features['word.prevsilencer']=has_silencer(prevword)\n",
    "        features['word.prevwordisdigit'] = prevword.isdigit()\n",
    "        features['word.prevlentcc'] = lenbytcc(prevword)\n",
    "        features['word.prev_c'] = c(prevword)\n",
    "        features['word.prev_n'] = n(prevword)\n",
    "        features['word.prev_w'] = w(prevword)\n",
    "        features['word.prev_v'] = v(prevword)\n",
    "        features['word.prev_is_special_characters'] =is_special_characters(prevword)\n",
    "    else:\n",
    "        features['BOS'] = True # Special \"Beginning of Sequence\" tag\n",
    "    # Features from next word\n",
    "    if i < len(doc)-1:\n",
    "        nextword = doc[i+1][0]\n",
    "        features['word.nextword'] = nextword\n",
    "        features['word.next_isspace']=nextword.isspace()\n",
    "        features['word.next_isthai']=isThaiWord(nextword)\n",
    "        features['word.next_tonemarks']=has_tonemarks(nextword)\n",
    "        features['word.next_stopword']=is_stopword(nextword)\n",
    "        features['word.next_in_dict']=in_dict(nextword)\n",
    "        features['word.next_in_isnumthai']=is_numthai(nextword)\n",
    "        features['word.next_silencer']=has_silencer(nextword)\n",
    "        features['word.next_wordisdigit'] = nextword.isdigit()\n",
    "        features['word.next_lentcc']=lenbytcc(nextword)\n",
    "        features['word.next_c']=c(nextword)\n",
    "        features['word.next_n']=n(nextword)\n",
    "        features['word.next_w']=w(nextword)\n",
    "        features['word.next_v']=v(nextword)\n",
    "        features['word.next_is_special_characters']=is_special_characters(nextword)\n",
    "    else:\n",
    "        features['EOS'] = True # Special \"End of Sequence\" tag\n",
    "\n",
    "    return features\n",
    "\n",
    "def extract_features(doc):\n",
    "    return [doc2features(doc, i) for i in range(len(doc))]\n",
    "\n",
    "def get_labels(doc):\n",
    "    return [tag for (token,tag) in doc]"
   ]
  },
  {
   "cell_type": "code",
   "execution_count": 102,
   "metadata": {},
   "outputs": [],
   "source": [
    "import random\n",
    "random.shuffle(datatofile)"
   ]
  },
  {
   "cell_type": "code",
   "execution_count": 103,
   "metadata": {},
   "outputs": [
    {
     "data": {
      "text/plain": [
       "[('ควร', 'O'),\n",
       " ('ให้', 'O'),\n",
       " ('ครู', 'O'),\n",
       " ('ภา', 'O'),\n",
       " ('ษา', 'O'),\n",
       " ('ไทย', 'O'),\n",
       " ('กรอง', 'O'),\n",
       " ('คำ', 'O'),\n",
       " ('ก่อน', 'O'),\n",
       " ('เน', 'O'),\n",
       " ('อะ', 'O')]"
      ]
     },
     "execution_count": 103,
     "metadata": {},
     "output_type": "execute_result"
    }
   ],
   "source": [
    "datatofile[0]"
   ]
  },
  {
   "cell_type": "markdown",
   "metadata": {},
   "source": [
    "# เตรียมข้อมูลสำหรับ Train"
   ]
  },
  {
   "cell_type": "code",
   "execution_count": 104,
   "metadata": {},
   "outputs": [],
   "source": [
    "X_data = [extract_features(doc) for doc in datatofile]\n",
    "y_data = [get_labels(doc) for doc in datatofile]"
   ]
  },
  {
   "cell_type": "code",
   "execution_count": 193,
   "metadata": {},
   "outputs": [],
   "source": [
    "test=False"
   ]
  },
  {
   "cell_type": "code",
   "execution_count": 194,
   "metadata": {},
   "outputs": [],
   "source": [
    "!rm test.model0"
   ]
  },
  {
   "cell_type": "code",
   "execution_count": 195,
   "metadata": {},
   "outputs": [
    {
     "name": "stdout",
     "output_type": "stream",
     "text": [
      "rm: cannot remove 'sp.model': No such file or directory\r\n"
     ]
    }
   ],
   "source": [
    "!rm sp.model"
   ]
  },
  {
   "cell_type": "code",
   "execution_count": 196,
   "metadata": {},
   "outputs": [],
   "source": [
    "if test:\n",
    "    X, X_test, y, y_test = train_test_split(X_data, y_data, test_size=0.1)\n",
    "else:\n",
    "    X=X_data\n",
    "    y=y_data"
   ]
  },
  {
   "cell_type": "markdown",
   "metadata": {},
   "source": [
    "# Train"
   ]
  },
  {
   "cell_type": "code",
   "execution_count": 197,
   "metadata": {},
   "outputs": [],
   "source": [
    "filename=\"\"\n",
    "if test:\n",
    "    filename=\"test.model0\"\n",
    "else:\n",
    "    filename=\"sp.model\"\n",
    "crf = sklearn_crfsuite.CRF(\n",
    "    algorithm='pa',\n",
    "    #c1=0.1,\n",
    "    #c2=0.1,\n",
    "    max_iterations=450,#500,\n",
    "    all_possible_transitions=True,\n",
    "    model_filename=filename\n",
    ")\n",
    "crf.fit(X, y);"
   ]
  },
  {
   "cell_type": "code",
   "execution_count": 198,
   "metadata": {},
   "outputs": [],
   "source": [
    "#X_test[0]"
   ]
  },
  {
   "cell_type": "markdown",
   "metadata": {},
   "source": [
    "# Test"
   ]
  },
  {
   "cell_type": "code",
   "execution_count": 199,
   "metadata": {},
   "outputs": [
    {
     "name": "stdout",
     "output_type": "stream",
     "text": [
      "0.9980599668069841\n",
      "             precision    recall  f1-score   support\n",
      "\n",
      "        B-S      0.998     0.997     0.998      1105\n",
      "        I-S      0.998     0.999     0.998       957\n",
      "\n",
      "avg / total      0.998     0.998     0.998      2062\n",
      "\n"
     ]
    }
   ],
   "source": [
    "if test:\n",
    "    labels = list(crf.classes_)\n",
    "    labels.remove('O')\n",
    "    y_pred = crf.predict(X_test)\n",
    "    e=metrics.flat_f1_score(y_test, y_pred,average='weighted', labels=labels)\n",
    "    print(e)\n",
    "    sorted_labels = sorted(labels,key=lambda name: (name[1:], name[0]))\n",
    "    print(metrics.flat_classification_report(y_test, y_pred, labels=sorted_labels, digits=3))\n",
    "else:\n",
    "    labels = list(crf.classes_)\n",
    "    labels.remove('O')\n",
    "    y_pred = crf.predict(X)\n",
    "    e=metrics.flat_f1_score(y, y_pred,average='weighted', labels=labels)\n",
    "    print(e)\n",
    "    sorted_labels = sorted(labels,key=lambda name: (name[1:], name[0]))\n",
    "    print(metrics.flat_classification_report(y, y_pred, labels=sorted_labels, digits=3))"
   ]
  },
  {
   "cell_type": "code",
   "execution_count": 200,
   "metadata": {},
   "outputs": [
    {
     "data": {
      "text/plain": [
       "'\\na=0.0\\nb=0.0\\ni=0\\nwhile i<1000:\\n    crf = sklearn_crfsuite.CRF(\\n        algorithm=\\'ap\\',#\\'lbfgs\\',\\n        #c1=0.1,\\n        #c2=0.1,\\n        max_iterations=i,\\n        all_possible_transitions=True,\\n        model_filename=\"test.model0.\"+str(i)\\n    )\\n    print(i)\\n    crf.fit(X, y);\\n    labels = list(crf.classes_)\\n    labels.remove(\\'O\\')\\n    y_pred = crf.predict(X_test)\\n    e=metrics.flat_f1_score(y_test, y_pred,average=\\'weighted\\', labels=labels)\\n    print(e)\\n    print(\"-----------\")\\n    i+=50\\n'"
      ]
     },
     "execution_count": 200,
     "metadata": {},
     "output_type": "execute_result"
    }
   ],
   "source": [
    "\"\"\"\n",
    "a=0.0\n",
    "b=0.0\n",
    "i=0\n",
    "while i<1000:\n",
    "    crf = sklearn_crfsuite.CRF(\n",
    "        algorithm='ap',#'lbfgs',\n",
    "        #c1=0.1,\n",
    "        #c2=0.1,\n",
    "        max_iterations=i,\n",
    "        all_possible_transitions=True,\n",
    "        model_filename=\"test.model0.\"+str(i)\n",
    "    )\n",
    "    print(i)\n",
    "    crf.fit(X, y);\n",
    "    labels = list(crf.classes_)\n",
    "    labels.remove('O')\n",
    "    y_pred = crf.predict(X_test)\n",
    "    e=metrics.flat_f1_score(y_test, y_pred,average='weighted', labels=labels)\n",
    "    print(e)\n",
    "    print(\"-----------\")\n",
    "    i+=50\n",
    "\"\"\""
   ]
  },
  {
   "cell_type": "markdown",
   "metadata": {},
   "source": [
    "### cross_validate"
   ]
  },
  {
   "cell_type": "code",
   "execution_count": 201,
   "metadata": {},
   "outputs": [],
   "source": [
    "if test:\n",
    "    f1_scorer = make_scorer(metrics.flat_f1_score, average='macro') \n",
    "    scores = cross_validate(crf, X, y, scoring=f1_scorer, cv=5)\n",
    "    # save data\n",
    "    print(scores)"
   ]
  },
  {
   "cell_type": "code",
   "execution_count": 202,
   "metadata": {},
   "outputs": [],
   "source": [
    "if test:\n",
    "    f1_scorer = make_scorer(metrics.flat_f1_score, average='macro') \n",
    "    scores = cross_validate(crf, X_data, y_data, scoring=f1_scorer, cv=5)\n",
    "    # save data\n",
    "    print(scores)"
   ]
  },
  {
   "cell_type": "code",
   "execution_count": 203,
   "metadata": {},
   "outputs": [],
   "source": [
    "def get(text):\n",
    "    word_cut=word_tokenize(text)\n",
    "    #print(word_cut)\n",
    "    X_test = extract_features([(i,) for i in word_cut])\n",
    "    #print(X_test)\n",
    "    y_=crf.predict_single(X_test)\n",
    "    x= [(word_cut[i],data) for i,data in enumerate(y_)]\n",
    "    output=\"\"\n",
    "    temp=''\n",
    "    #print(x)\n",
    "    for i,b in enumerate(x):\n",
    "        if i==len(x)-1 and 'B' in b[1] and temp=='B':\n",
    "            output+=\"</คำผิด><คำผิด>\"+b[0]+\"</คำผิด>\"\n",
    "            temp='B'\n",
    "        elif i==len(x)-1 and 'B' in b[1]:\n",
    "            output+=\"<คำผิด>\"+b[0]+\"</คำผิด>\"\n",
    "            temp='B'\n",
    "        elif 'B-' in b[1] and temp=='B':\n",
    "            output+=\"</คำผิด><คำผิด>\"+b[0]\n",
    "            temp='B'\n",
    "        elif 'B-' in b[1]:\n",
    "            output+=\"<คำผิด>\"+b[0]\n",
    "            temp='B'\n",
    "        elif 'O' in b[1] and temp=='B':\n",
    "            output+=\"</คำผิด>\"+b[0]\n",
    "            temp='O'\n",
    "        elif i==len(x)-1 and 'I' in b[1] and temp=='B':\n",
    "            output+=b[0]+\"</คำผิด>\"\n",
    "            temp='O'\n",
    "        else:\n",
    "            output+=b[0]\n",
    "    return output\n"
   ]
  },
  {
   "cell_type": "code",
   "execution_count": 204,
   "metadata": {},
   "outputs": [
    {
     "data": {
      "text/plain": [
       "'ทดสอบ'"
      ]
     },
     "execution_count": 204,
     "metadata": {},
     "output_type": "execute_result"
    }
   ],
   "source": [
    "get(\"ทดสอบ\")"
   ]
  },
  {
   "cell_type": "code",
   "execution_count": 205,
   "metadata": {},
   "outputs": [
    {
     "data": {
      "text/plain": [
       "'ตอนนี้คุณทดสอบระบบได้เลย<คำผิด>นะค่ะ</คำผิด>'"
      ]
     },
     "execution_count": 205,
     "metadata": {},
     "output_type": "execute_result"
    }
   ],
   "source": [
    "get(\"ตอนนี้คุณทดสอบระบบได้เลยนะค่ะ\")"
   ]
  },
  {
   "cell_type": "code",
   "execution_count": 206,
   "metadata": {},
   "outputs": [
    {
     "data": {
      "text/plain": [
       "'ผมจะ<คำผิด>บกลศ</คำผิด>สำคัญตอนนี้คุณทดสอบระบบได้เลย<คำผิด>นะค่ะ</คำผิด>'"
      ]
     },
     "execution_count": 206,
     "metadata": {},
     "output_type": "execute_result"
    }
   ],
   "source": [
    "get(\"ผมจะบกลศสำคัญตอนนี้คุณทดสอบระบบได้เลยนะค่ะ\")"
   ]
  },
  {
   "cell_type": "code",
   "execution_count": 207,
   "metadata": {},
   "outputs": [
    {
     "data": {
      "text/plain": [
       "'กระเป๋ามันคับจริงๆ'"
      ]
     },
     "execution_count": 207,
     "metadata": {},
     "output_type": "execute_result"
    }
   ],
   "source": [
    "get(\"กระเป๋ามันคับจริงๆ\")"
   ]
  },
  {
   "cell_type": "code",
   "execution_count": 208,
   "metadata": {},
   "outputs": [
    {
     "data": {
      "text/plain": [
       "'มข. เงียบกว่าครับ ผมไม่รู้ความเคลื่อนไหวอะไรเลยในด้านนี้ครับ'"
      ]
     },
     "execution_count": 208,
     "metadata": {},
     "output_type": "execute_result"
    }
   ],
   "source": [
    "get(\"มข. เงียบกว่าครับ ผมไม่รู้ความเคลื่อนไหวอะไรเลยในด้านนี้ครับ\")"
   ]
  },
  {
   "cell_type": "code",
   "execution_count": 209,
   "metadata": {},
   "outputs": [
    {
     "data": {
      "text/plain": [
       "'ตอนนี้กำลังคุณทดสอบระบบตรวจสอบคำ<คำผิด>ผิก</คำผิด>อ่ะนะ'"
      ]
     },
     "execution_count": 209,
     "metadata": {},
     "output_type": "execute_result"
    }
   ],
   "source": [
    "get(\"ตอนนี้กำลังคุณทดสอบระบบตรวจสอบคำผิกอ่ะนะ\")"
   ]
  },
  {
   "cell_type": "code",
   "execution_count": 210,
   "metadata": {},
   "outputs": [
    {
     "data": {
      "text/plain": [
       "'<คำผิด>่าี่าหกาืหวายหผ่ืทก</คำผิด> หาร<คำผิด>หปทากวห</คำผิด>'"
      ]
     },
     "execution_count": 210,
     "metadata": {},
     "output_type": "execute_result"
    }
   ],
   "source": [
    "get(\"่าี่าหกาืหวายหผ่ืทก หารหปทากวห\")"
   ]
  },
  {
   "cell_type": "code",
   "execution_count": 211,
   "metadata": {},
   "outputs": [
    {
     "data": {
      "text/plain": [
       "'ฉันจะไปแจ้งวัฒนะค่ะ <คำผิด>คุน</คำผิด>จะไปไหม<คำผิด>นะค่ะ</คำผิด>'"
      ]
     },
     "execution_count": 211,
     "metadata": {},
     "output_type": "execute_result"
    }
   ],
   "source": [
    "get(\"ฉันจะไปแจ้งวัฒนะค่ะ คุนจะไปไหมนะค่ะ\")"
   ]
  },
  {
   "cell_type": "code",
   "execution_count": 212,
   "metadata": {},
   "outputs": [
    {
     "data": {
      "text/plain": [
       "'ฉันจะไปแจ้งวัฒนะค่ะ <คำผิด>คุน</คำผิด>จะไปไหม ถ้าไม่ไปคุณช่วยส่งอีเมลมาให้ฉันที่<คำผิด>อีเมล์</คำผิด>นี้<คำผิด>นะค่ะ</คำผิด>'"
      ]
     },
     "execution_count": 212,
     "metadata": {},
     "output_type": "execute_result"
    }
   ],
   "source": [
    "get(\"ฉันจะไปแจ้งวัฒนะค่ะ คุนจะไปไหม ถ้าไม่ไปคุณช่วยส่งอีเมลมาให้ฉันที่อีเมล์นี้นะค่ะ\")"
   ]
  },
  {
   "cell_type": "code",
   "execution_count": 213,
   "metadata": {},
   "outputs": [
    {
     "data": {
      "text/plain": [
       "'<คำผิด>อารลมณ</คำผิด>ของคุณเมื่อพักร้อนแล้วกลับมาเช็ค<คำผิด>อีเมล์</คำผิด>ที่ทำงานเป็นครั้งแรก.'"
      ]
     },
     "execution_count": 213,
     "metadata": {},
     "output_type": "execute_result"
    }
   ],
   "source": [
    "get(\"อารลมณของคุณเมื่อพักร้อนแล้วกลับมาเช็คอีเมล์ที่ทำงานเป็นครั้งแรก.\")"
   ]
  },
  {
   "cell_type": "code",
   "execution_count": 214,
   "metadata": {},
   "outputs": [
    {
     "data": {
      "text/plain": [
       "'<คำผิด>ทัมรัย</คำผิด><คำผิด>ยุ</คำผิด>ค่ะ'"
      ]
     },
     "execution_count": 214,
     "metadata": {},
     "output_type": "execute_result"
    }
   ],
   "source": [
    "get(\"ทัมรัยยุค่ะ\")"
   ]
  },
  {
   "cell_type": "code",
   "execution_count": 215,
   "metadata": {},
   "outputs": [
    {
     "data": {
      "text/plain": [
       "'ทัก<คำผิด>นะค้ะ</คำผิด>'"
      ]
     },
     "execution_count": 215,
     "metadata": {},
     "output_type": "execute_result"
    }
   ],
   "source": [
    "get(\"ทักนะค้ะ\")"
   ]
  },
  {
   "cell_type": "code",
   "execution_count": 216,
   "metadata": {},
   "outputs": [
    {
     "data": {
      "text/plain": [
       "'ชื่อ<คำผิด>อัลไล</คำผิด>ค่า'"
      ]
     },
     "execution_count": 216,
     "metadata": {},
     "output_type": "execute_result"
    }
   ],
   "source": [
    "get(\"ชื่ออัลไลค่า\")"
   ]
  },
  {
   "cell_type": "code",
   "execution_count": 217,
   "metadata": {},
   "outputs": [
    {
     "data": {
      "text/plain": [
       "'<คำผิด>เด๋ว</คำผิด>มา<คำผิด>นะค้ะ</คำผิด>'"
      ]
     },
     "execution_count": 217,
     "metadata": {},
     "output_type": "execute_result"
    }
   ],
   "source": [
    "get('เด๋วมานะค้ะ')"
   ]
  },
  {
   "cell_type": "code",
   "execution_count": 218,
   "metadata": {},
   "outputs": [
    {
     "data": {
      "text/plain": [
       "'<คำผิด>มินิ่ง</คำผิด><คำผิด>คราบ</คำผิด>'"
      ]
     },
     "execution_count": 218,
     "metadata": {},
     "output_type": "execute_result"
    }
   ],
   "source": [
    "get(\"มินิ่งคราบ\")"
   ]
  },
  {
   "cell_type": "code",
   "execution_count": 219,
   "metadata": {},
   "outputs": [
    {
     "data": {
      "text/plain": [
       "'\"จำไว้ๆ เกิดมาเพื่อทำให้โลกใบนี้งดงาม” - พุทธทาสภิกขุ'"
      ]
     },
     "execution_count": 219,
     "metadata": {},
     "output_type": "execute_result"
    }
   ],
   "source": [
    "get('\"จำไว้ๆ เกิดมาเพื่อทำให้โลกใบนี้งดงาม” - พุทธทาสภิกขุ')"
   ]
  },
  {
   "cell_type": "code",
   "execution_count": 220,
   "metadata": {},
   "outputs": [
    {
     "data": {
      "text/plain": [
       "'อนาคต ... ถ้าคนตกงานเพราะระบบอัตโนมัติหมด จำนวนงานใหม่ที่เกิดจากอินเทอร์เน็ตโตไม่ทัน แล้วใครจะมีเงินไปซื้อสินค้าหรือบริการจากธุรกิจที่นำระบบอัตโนมัติมาใช้งานแทนคน ในเมื่อคนก็ตกงานกันเยอะ'"
      ]
     },
     "execution_count": 220,
     "metadata": {},
     "output_type": "execute_result"
    }
   ],
   "source": [
    "get(\"อนาคต ... ถ้าคนตกงานเพราะระบบอัตโนมัติหมด จำนวนงานใหม่ที่เกิดจากอินเทอร์เน็ตโตไม่ทัน แล้วใครจะมีเงินไปซื้อสินค้าหรือบริการจากธุรกิจที่นำระบบอัตโนมัติมาใช้งานแทนคน ในเมื่อคนก็ตกงานกันเยอะ\")"
   ]
  },
  {
   "cell_type": "code",
   "execution_count": 221,
   "metadata": {},
   "outputs": [
    {
     "data": {
      "text/plain": [
       "'นายกูเตอร์เรสกล่าวในรายงานระบุว่า รัฐบาลในประเทศเหล่านี้มักจะตั้งข้อหาที่เกี่ยวข้องกับ ก่อการร้าย หรือไม่ก็เกี่ยวกับ ความมั่นคง เพื่อเป็นเหตุผลในการอ้างความผิดให้กับกลุ่มคนที่ให้ความร่วมมือกับองค์กรต่างชาติในการตรวจสอบการละเมิดสิทธิมนุษยชน....... อ่านต่อได้ที่ : https://www.posttoday.com/world/564115'"
      ]
     },
     "execution_count": 221,
     "metadata": {},
     "output_type": "execute_result"
    }
   ],
   "source": [
    "get(\"นายกูเตอร์เรสกล่าวในรายงานระบุว่า รัฐบาลในประเทศเหล่านี้มักจะตั้งข้อหาที่เกี่ยวข้องกับ ก่อการร้าย หรือไม่ก็เกี่ยวกับ ความมั่นคง เพื่อเป็นเหตุผลในการอ้างความผิดให้กับกลุ่มคนที่ให้ความร่วมมือกับองค์กรต่างชาติในการตรวจสอบการละเมิดสิทธิมนุษยชน....... อ่านต่อได้ที่ : https://www.posttoday.com/world/564115\")"
   ]
  },
  {
   "cell_type": "code",
   "execution_count": 222,
   "metadata": {},
   "outputs": [
    {
     "data": {
      "text/plain": [
       "'หงุดหงิดโว้ย<คำผิด>ยยย</คำผิด>'"
      ]
     },
     "execution_count": 222,
     "metadata": {},
     "output_type": "execute_result"
    }
   ],
   "source": [
    "get('หงุดหงิดโว้ยยยย')"
   ]
  },
  {
   "cell_type": "code",
   "execution_count": 223,
   "metadata": {},
   "outputs": [
    {
     "data": {
      "text/plain": [
       "'ลนนะลง <คำผิด>หั้ย</คำผิด><คำผิด>ชัย</คำผิด><คำผิด>พาสา</คำผิด><คำผิด>ทัย</คำผิด> <คำผิด>หัย</คำผิด>ถูกต้อง<คำผิด>นะค่ะ</คำผิด> 🌝'"
      ]
     },
     "execution_count": 223,
     "metadata": {},
     "output_type": "execute_result"
    }
   ],
   "source": [
    "get('ลนนะลง หั้ยชัยพาสาทัย หัยถูกต้องนะค่ะ 🌝')"
   ]
  },
  {
   "cell_type": "code",
   "execution_count": 224,
   "metadata": {},
   "outputs": [
    {
     "data": {
      "text/plain": [
       "'เคี้ยวกุดปะ'"
      ]
     },
     "execution_count": 224,
     "metadata": {},
     "output_type": "execute_result"
    }
   ],
   "source": [
    "get(\"เคี้ยวกุดปะ\")"
   ]
  },
  {
   "cell_type": "code",
   "execution_count": 225,
   "metadata": {},
   "outputs": [
    {
     "data": {
      "text/plain": [
       "\"<คำผิด>ทาม</คำผิด><คำผิด>รัย</คำผิด><คำผิด>ข๊'</คำผิด> <คำผิด>ทีลั๊'คค</คำผิด> บอก<คำผิด>เล'าา</คำผิด> โน่ยเส๊'\""
      ]
     },
     "execution_count": 225,
     "metadata": {},
     "output_type": "execute_result"
    }
   ],
   "source": [
    "get(\"ทามรัยข๊' ทีลั๊'คค บอกเล'าา โน่ยเส๊'\")"
   ]
  },
  {
   "cell_type": "code",
   "execution_count": 226,
   "metadata": {},
   "outputs": [
    {
     "data": {
      "text/plain": [
       "'<คำผิด>กัว</คำผิด><คำผิด>แร้ว</คำผิด><คำผิด>จร้าาาาาา</คำผิด>'"
      ]
     },
     "execution_count": 226,
     "metadata": {},
     "output_type": "execute_result"
    }
   ],
   "source": [
    "get(\"กัวแร้วจร้าาาาาา\")"
   ]
  },
  {
   "cell_type": "code",
   "execution_count": 227,
   "metadata": {},
   "outputs": [
    {
     "data": {
      "text/plain": [
       "'<คำผิด>รั๊คสุ้ด</คำผิด>ๆ<คำผิด>อร้ะะะะ</คำผิด>'"
      ]
     },
     "execution_count": 227,
     "metadata": {},
     "output_type": "execute_result"
    }
   ],
   "source": [
    "get(\"รั๊คสุ้ดๆอร้ะะะะ\")"
   ]
  },
  {
   "cell_type": "code",
   "execution_count": 228,
   "metadata": {},
   "outputs": [
    {
     "data": {
      "text/plain": [
       "'<คำผิด>ทำรัย</คำผิด><คำผิด>ยุ</คำผิด>ค่ะ'"
      ]
     },
     "execution_count": 228,
     "metadata": {},
     "output_type": "execute_result"
    }
   ],
   "source": [
    "get(\"ทำรัยยุค่ะ\")"
   ]
  },
  {
   "cell_type": "code",
   "execution_count": 229,
   "metadata": {},
   "outputs": [
    {
     "data": {
      "text/plain": [
       "'<คำผิด>อัลไล</คำผิด><คำผิด>หร๊</คำผิด>'"
      ]
     },
     "execution_count": 229,
     "metadata": {},
     "output_type": "execute_result"
    }
   ],
   "source": [
    "get(\"อัลไลหร๊\")"
   ]
  },
  {
   "cell_type": "code",
   "execution_count": 230,
   "metadata": {},
   "outputs": [
    {
     "data": {
      "text/plain": [
       "'<คำผิด>ปัย</คำผิด>ดี<คำผิด>ณะคะ</คำผิด>'"
      ]
     },
     "execution_count": 230,
     "metadata": {},
     "output_type": "execute_result"
    }
   ],
   "source": [
    "get(\"ปัยดีณะคะ\")"
   ]
  },
  {
   "cell_type": "code",
   "execution_count": 231,
   "metadata": {},
   "outputs": [
    {
     "data": {
      "text/plain": [
       "'รับได้บางคำแต่ไม่ทั้งหมด\\u200b ไม่ได้ดูถูกศัพท์วัยรุ่น\\u200b ไม่ได้เป็นคนหัวโบราณ\\u200b แต่ไม่อยากให้ภาษาบ้านตัวเองวิบัตินะคับ'"
      ]
     },
     "execution_count": 231,
     "metadata": {},
     "output_type": "execute_result"
    }
   ],
   "source": [
    "get(\"รับได้บางคำแต่ไม่ทั้งหมด​ ไม่ได้ดูถูกศัพท์วัยรุ่น​ ไม่ได้เป็นคนหัวโบราณ​ แต่ไม่อยากให้ภาษาบ้านตัวเองวิบัตินะคับ\")"
   ]
  },
  {
   "cell_type": "code",
   "execution_count": 232,
   "metadata": {},
   "outputs": [
    {
     "data": {
      "text/plain": [
       "'แต่ของพี่ เอาเข้า dict อยู่นะ ละก็แก้คำผิด > <'"
      ]
     },
     "execution_count": 232,
     "metadata": {},
     "output_type": "execute_result"
    }
   ],
   "source": [
    "get(\"แต่ของพี่ เอาเข้า dict อยู่นะ ละก็แก้คำผิด > <\")"
   ]
  },
  {
   "cell_type": "code",
   "execution_count": 233,
   "metadata": {},
   "outputs": [
    {
     "data": {
      "text/plain": [
       "'ประยุทธ์ ลั่นปม “นาฬิกาเพื่อน” ของ ประวิตร เป็น “เรื่องเล็ก ๆ น้อย” ขอให้จบ ๆ ไป ย้อนถามทีคนหนีคดีทำไมไม่ไปดู หลังไทยถูกปรับลดอันดับคอร์รัปชั่น'"
      ]
     },
     "execution_count": 233,
     "metadata": {},
     "output_type": "execute_result"
    }
   ],
   "source": [
    "get(\"ประยุทธ์ ลั่นปม “นาฬิกาเพื่อน” ของ ประวิตร เป็น “เรื่องเล็ก ๆ น้อย” ขอให้จบ ๆ ไป ย้อนถามทีคนหนีคดีทำไมไม่ไปดู หลังไทยถูกปรับลดอันดับคอร์รัปชั่น\")"
   ]
  },
  {
   "cell_type": "code",
   "execution_count": 234,
   "metadata": {},
   "outputs": [
    {
     "data": {
      "text/plain": [
       "'หยุดใช้ QR code แล้วใช้ short url แทน อะไรๆก็ใช้แต่ QR code แม้แต่กิจกรรมของมหาลัย โพสต์เชิญชวนเข้ากิจกรรมหลายอันแต่เว็บสมัครเป็น QR code อยู่ในรูป จะให้ใช้แต่มือถือ ไม่เอาคอม แถมถ้าอยู่ในมือถือต้องเอารูปนั้นไปผ่านแอพสแกนถอดลิงค์จากรูปอีก เจอหลายงานหงุดหงิด เลยไม่สมัครไปหลายงาน'"
      ]
     },
     "execution_count": 234,
     "metadata": {},
     "output_type": "execute_result"
    }
   ],
   "source": [
    "get(\"หยุดใช้ QR code แล้วใช้ short url แทน อะไรๆก็ใช้แต่ QR code แม้แต่กิจกรรมของมหาลัย โพสต์เชิญชวนเข้ากิจกรรมหลายอันแต่เว็บสมัครเป็น QR code อยู่ในรูป จะให้ใช้แต่มือถือ ไม่เอาคอม แถมถ้าอยู่ในมือถือต้องเอารูปนั้นไปผ่านแอพสแกนถอดลิงค์จากรูปอีก เจอหลายงานหงุดหงิด เลยไม่สมัครไปหลายงาน\")"
   ]
  },
  {
   "cell_type": "code",
   "execution_count": 235,
   "metadata": {},
   "outputs": [
    {
     "data": {
      "text/plain": [
       "'มทส. ไม่มีใครทำแผนที่ AGPS ให้ Mozilla เลยหรอ ?'"
      ]
     },
     "execution_count": 235,
     "metadata": {},
     "output_type": "execute_result"
    }
   ],
   "source": [
    "get(\"มทส. ไม่มีใครทำแผนที่ AGPS ให้ Mozilla เลยหรอ ?\")"
   ]
  },
  {
   "cell_type": "code",
   "execution_count": 236,
   "metadata": {},
   "outputs": [
    {
     "data": {
      "text/plain": [
       "'ตามรอยกรุงเทพแล้วหนองคาย ... ข้อมูลจากดาวเทียมเชื่อถือได้ไหม ?'"
      ]
     },
     "execution_count": 236,
     "metadata": {},
     "output_type": "execute_result"
    }
   ],
   "source": [
    "get(\"ตามรอยกรุงเทพแล้วหนองคาย ... ข้อมูลจากดาวเทียมเชื่อถือได้ไหม ?\")"
   ]
  },
  {
   "cell_type": "code",
   "execution_count": 237,
   "metadata": {},
   "outputs": [
    {
     "data": {
      "text/plain": [
       "'จะเลือกตั้งแล้ว ไปดูข้อมูลเปิดด้านการเลือกตั้ง ที่ กกต. ร่วมกับ สพร. ทำระบบ ตามลิ้งค์ข้างล่างนี้เลย'"
      ]
     },
     "execution_count": 237,
     "metadata": {},
     "output_type": "execute_result"
    }
   ],
   "source": [
    "get(\"จะเลือกตั้งแล้ว ไปดูข้อมูลเปิดด้านการเลือกตั้ง ที่ กกต. ร่วมกับ สพร. ทำระบบ ตามลิ้งค์ข้างล่างนี้เลย\")"
   ]
  },
  {
   "cell_type": "code",
   "execution_count": 238,
   "metadata": {},
   "outputs": [
    {
     "data": {
      "text/plain": [
       "'โซฟาห้องโปรเจคสาขา CIS ช่างนอนหลับสบาย'"
      ]
     },
     "execution_count": 238,
     "metadata": {},
     "output_type": "execute_result"
    }
   ],
   "source": [
    "get(\"โซฟาห้องโปรเจคสาขา CIS ช่างนอนหลับสบาย\")"
   ]
  },
  {
   "cell_type": "code",
   "execution_count": 239,
   "metadata": {},
   "outputs": [
    {
     "data": {
      "text/plain": [
       "'<คำผิด>แถลกานล์</คำผิด>สภานักศึกษามหาวิทยาลัยเชียงใหม่'"
      ]
     },
     "execution_count": 239,
     "metadata": {},
     "output_type": "execute_result"
    }
   ],
   "source": [
    "get(\"แถลกานล์สภานักศึกษามหาวิทยาลัยเชียงใหม่\")"
   ]
  },
  {
   "cell_type": "code",
   "execution_count": 240,
   "metadata": {},
   "outputs": [
    {
     "data": {
      "text/plain": [
       "'หนึ่งวันในดาวเสาร์คือ 10 ชั่วโมง 33 นาที 38 วินาที'"
      ]
     },
     "execution_count": 240,
     "metadata": {},
     "output_type": "execute_result"
    }
   ],
   "source": [
    "get(\"หนึ่งวันในดาวเสาร์คือ 10 ชั่วโมง 33 นาที 38 วินาที\")"
   ]
  },
  {
   "cell_type": "code",
   "execution_count": 241,
   "metadata": {},
   "outputs": [
    {
     "data": {
      "text/plain": [
       "'รับงานพิสูจน์เอกสาร<คำผิด>นะค่ะ</คำผิด>'"
      ]
     },
     "execution_count": 241,
     "metadata": {},
     "output_type": "execute_result"
    }
   ],
   "source": [
    "get(\"รับงานพิสูจน์เอกสารนะค่ะ\")"
   ]
  },
  {
   "cell_type": "code",
   "execution_count": 242,
   "metadata": {},
   "outputs": [
    {
     "data": {
      "text/plain": [
       "'เพราะฉันลืมชื่อเขา<คำผิด>นะค่ะ</คำผิด>'"
      ]
     },
     "execution_count": 242,
     "metadata": {},
     "output_type": "execute_result"
    }
   ],
   "source": [
    "get(\"เพราะฉันลืมชื่อเขานะค่ะ\")"
   ]
  },
  {
   "cell_type": "code",
   "execution_count": 243,
   "metadata": {},
   "outputs": [
    {
     "data": {
      "text/plain": [
       "'เขาปลูกกาแฟบน<คำผิด>ภูเข</คำผิด>สูง<คำผิด>ส่นว</คำผิด>ใหญ่เป็นกาแฟดิบ'"
      ]
     },
     "execution_count": 243,
     "metadata": {},
     "output_type": "execute_result"
    }
   ],
   "source": [
    "get(\"เขาปลูกกาแฟบนภูเขสูงส่นวใหญ่เป็นกาแฟดิบ\")"
   ]
  },
  {
   "cell_type": "code",
   "execution_count": 244,
   "metadata": {},
   "outputs": [
    {
     "data": {
      "text/plain": [
       "'<คำผิด>ภูเขบ</คำผิด>ไฟระเบิดที่คาโงชิมะ'"
      ]
     },
     "execution_count": 244,
     "metadata": {},
     "output_type": "execute_result"
    }
   ],
   "source": [
    "get(\"ภูเขบไฟระเบิดที่คาโงชิมะ\")"
   ]
  },
  {
   "cell_type": "code",
   "execution_count": 245,
   "metadata": {},
   "outputs": [
    {
     "data": {
      "text/plain": [
       "'ไม่ว่าจะฝนตก น้ำท่วม แผ่นดินไหว <คำผิด>ภูเข</คำผิด>ไฟระเบิด มหิดล<คำผิด>ก้อ</คำผิด>ยังสอบเหมือนเดิม!!'"
      ]
     },
     "execution_count": 245,
     "metadata": {},
     "output_type": "execute_result"
    }
   ],
   "source": [
    "get(\"ไม่ว่าจะฝนตก น้ำท่วม แผ่นดินไหว ภูเขไฟระเบิด มหิดลก้อยังสอบเหมือนเดิม!!\")"
   ]
  },
  {
   "cell_type": "code",
   "execution_count": 246,
   "metadata": {},
   "outputs": [
    {
     "data": {
      "text/plain": [
       "'โอวันติน<คำผิด>ภูเขส</คำผิด>ไฟ'"
      ]
     },
     "execution_count": 246,
     "metadata": {},
     "output_type": "execute_result"
    }
   ],
   "source": [
    "get(\"โอวันตินภูเขสไฟ\")"
   ]
  },
  {
   "cell_type": "code",
   "execution_count": 247,
   "metadata": {},
   "outputs": [
    {
     "data": {
      "text/plain": [
       "'มึงจะทำไม<คำผิด>กุ</คำผิด>ล่ะ'"
      ]
     },
     "execution_count": 247,
     "metadata": {},
     "output_type": "execute_result"
    }
   ],
   "source": [
    "get(\"มึงจะทำไมกุล่ะ\")"
   ]
  },
  {
   "cell_type": "code",
   "execution_count": 248,
   "metadata": {},
   "outputs": [
    {
     "data": {
      "text/plain": [
       "'สำหรับอาจารย์<คำผิด>ปละ</คำผิด>พี่ๆศิษย์นะครับ'"
      ]
     },
     "execution_count": 248,
     "metadata": {},
     "output_type": "execute_result"
    }
   ],
   "source": [
    "get(\"สำหรับอาจารย์ปละพี่ๆศิษย์นะครับ\")"
   ]
  },
  {
   "cell_type": "code",
   "execution_count": 249,
   "metadata": {},
   "outputs": [
    {
     "data": {
      "text/plain": [
       "'<คำผิด>ช่าย</คำผิด>...<คำผิด>ตรู</คำผิด>ไม่โอเค<คำผิด>แร้ว</คำผิด>'"
      ]
     },
     "execution_count": 249,
     "metadata": {},
     "output_type": "execute_result"
    }
   ],
   "source": [
    "get(\"ช่าย...ตรูไม่โอเคแร้ว\")"
   ]
  },
  {
   "cell_type": "code",
   "execution_count": 250,
   "metadata": {},
   "outputs": [
    {
     "data": {
      "text/plain": [
       "'<คำผิด>ช่าย</คำผิด> เสียวมากอะ 2 ตอบกลับ 0 รีทวีต 1 ชื่นชอบ'"
      ]
     },
     "execution_count": 250,
     "metadata": {},
     "output_type": "execute_result"
    }
   ],
   "source": [
    "get(\"ช่าย เสียวมากอะ 2 ตอบกลับ 0 รีทวีต 1 ชื่นชอบ\")"
   ]
  },
  {
   "cell_type": "code",
   "execution_count": 251,
   "metadata": {},
   "outputs": [
    {
     "data": {
      "text/plain": [
       "'จีบเธอได้<คำผิด>มะ</คำผิด> ในฐานะคนที่ชอบ'"
      ]
     },
     "execution_count": 251,
     "metadata": {},
     "output_type": "execute_result"
    }
   ],
   "source": [
    "get(\"จีบเธอได้มะ ในฐานะคนที่ชอบ\")"
   ]
  },
  {
   "cell_type": "code",
   "execution_count": 252,
   "metadata": {},
   "outputs": [
    {
     "data": {
      "text/plain": [
       "'<คำผิด>ช่าย</คำผิด>\\u200bผ่องนั้นแหละน้ำหวาน\\u200b คู่กับน้องอิน\\u200b 😂😂😂'"
      ]
     },
     "execution_count": 252,
     "metadata": {},
     "output_type": "execute_result"
    }
   ],
   "source": [
    "get(\"ช่าย​ผ่องนั้นแหละน้ำหวาน​ คู่กับน้องอิน​ 😂😂😂\")"
   ]
  },
  {
   "cell_type": "code",
   "execution_count": 253,
   "metadata": {},
   "outputs": [
    {
     "data": {
      "text/plain": [
       "'ไม่อยากจะ<คำผิด>เมาท์</คำผิด> เลย<คำผิด>จริม</คำผิด> <คำผิด>จริมม</คำผิด>'"
      ]
     },
     "execution_count": 253,
     "metadata": {},
     "output_type": "execute_result"
    }
   ],
   "source": [
    "get(\"ไม่อยากจะเมาท์ เลยจริม จริมม\")"
   ]
  },
  {
   "cell_type": "code",
   "execution_count": 254,
   "metadata": {},
   "outputs": [
    {
     "data": {
      "text/plain": [
       "'<คำผิด>เกี่ยวววววววว</คำผิด>'"
      ]
     },
     "execution_count": 254,
     "metadata": {},
     "output_type": "execute_result"
    }
   ],
   "source": [
    "get(\"เกี่ยวววววววว\")"
   ]
  },
  {
   "cell_type": "code",
   "execution_count": 255,
   "metadata": {},
   "outputs": [
    {
     "data": {
      "text/plain": [
       "'เหมือนมึงกับ<คำผิด>กุ</คำผิด>อะ แย่งห้องน้ำกันเก่ง'"
      ]
     },
     "execution_count": 255,
     "metadata": {},
     "output_type": "execute_result"
    }
   ],
   "source": [
    "get(\"เหมือนมึงกับกุอะ แย่งห้องน้ำกันเก่ง\")"
   ]
  },
  {
   "cell_type": "code",
   "execution_count": 256,
   "metadata": {},
   "outputs": [
    {
     "data": {
      "text/plain": [
       "'ช่วงนี้แกหิวบ่อย<คำผิด>ช่ะ</คำผิด><คำผิด>ป่ะ</คำผิด>'"
      ]
     },
     "execution_count": 256,
     "metadata": {},
     "output_type": "execute_result"
    }
   ],
   "source": [
    "get(\"ช่วงนี้แกหิวบ่อยช่ะป่ะ\")"
   ]
  },
  {
   "cell_type": "code",
   "execution_count": 257,
   "metadata": {},
   "outputs": [
    {
     "data": {
      "text/plain": [
       "'คนน่า<คำผิด>ร้ากกก</คำผิด> ทำอะไรนะ'"
      ]
     },
     "execution_count": 257,
     "metadata": {},
     "output_type": "execute_result"
    }
   ],
   "source": [
    "get(\"คนน่าร้ากกก ทำอะไรนะ\")"
   ]
  },
  {
   "cell_type": "code",
   "execution_count": 258,
   "metadata": {},
   "outputs": [
    {
     "data": {
      "text/plain": [
       "'ไม่ไหวแล้ว<คำผิด>วววว</คำผิด>น่ารักเกินไป<คำผิด>อ</คำผิด><คำผิด>ร้าก</คำผิด>'"
      ]
     },
     "execution_count": 258,
     "metadata": {},
     "output_type": "execute_result"
    }
   ],
   "source": [
    "get(\"ไม่ไหวแล้วววววน่ารักเกินไปอร้าก\")"
   ]
  },
  {
   "cell_type": "code",
   "execution_count": 259,
   "metadata": {},
   "outputs": [
    {
     "data": {
      "text/plain": [
       "'อันนี้น่า<คำผิด>ร้าก</คำผิด>พี่อี้แกล้งจะเปิดเสื้อคยองแล้วน้องร้องเสียงหลงเลยเอ็นดูการรวบชายเสื้อมากุมไว้จะได้ไม่มีใครถกขึ้นได้อ่ะ<คำผิด>น้องงงง</คำผิด> '"
      ]
     },
     "execution_count": 259,
     "metadata": {},
     "output_type": "execute_result"
    }
   ],
   "source": [
    "get(\"อันนี้น่าร้ากพี่อี้แกล้งจะเปิดเสื้อคยองแล้วน้องร้องเสียงหลงเลยเอ็นดูการรวบชายเสื้อมากุมไว้จะได้ไม่มีใครถกขึ้นได้อ่ะน้องงงง \")"
   ]
  },
  {
   "cell_type": "code",
   "execution_count": 260,
   "metadata": {},
   "outputs": [
    {
     "data": {
      "text/plain": [
       "'น่า<คำผิด>ร้าก</คำผิด><คำผิด>ชา</คำผิด><คำผิด>ม้าดดดดดดด</คำผิด> เจ้าหัวใจของพรี่'"
      ]
     },
     "execution_count": 260,
     "metadata": {},
     "output_type": "execute_result"
    }
   ],
   "source": [
    "get(\"น่าร้ากชาม้าดดดดดดด เจ้าหัวใจของพรี่\")"
   ]
  },
  {
   "cell_type": "code",
   "execution_count": 261,
   "metadata": {},
   "outputs": [
    {
     "data": {
      "text/plain": [
       "'ตัวอย่างประโยคที่<คำผิด>พิม</คำผิด>ผิด'"
      ]
     },
     "execution_count": 261,
     "metadata": {},
     "output_type": "execute_result"
    }
   ],
   "source": [
    "get(\"ตัวอย่างประโยคที่พิมผิด\")"
   ]
  },
  {
   "cell_type": "code",
   "execution_count": 262,
   "metadata": {},
   "outputs": [
    {
     "data": {
      "text/plain": [
       "'พี่พิมรีบทำงานสิ'"
      ]
     },
     "execution_count": 262,
     "metadata": {},
     "output_type": "execute_result"
    }
   ],
   "source": [
    "get(\"พี่พิมรีบทำงานสิ\")"
   ]
  },
  {
   "cell_type": "code",
   "execution_count": 263,
   "metadata": {},
   "outputs": [
    {
     "data": {
      "text/plain": [
       "'เขาพิมงานผิดพลาดทำให้เกิดความเสียหาย'"
      ]
     },
     "execution_count": 263,
     "metadata": {},
     "output_type": "execute_result"
    }
   ],
   "source": [
    "get(\"เขาพิมงานผิดพลาดทำให้เกิดความเสียหาย\")"
   ]
  },
  {
   "cell_type": "code",
   "execution_count": 264,
   "metadata": {},
   "outputs": [
    {
     "data": {
      "text/plain": [
       "'สวัสดีตอนเช้า คิด<คำผิด>เถิง</คำผิด>แต่เช้าเลย'"
      ]
     },
     "execution_count": 264,
     "metadata": {},
     "output_type": "execute_result"
    }
   ],
   "source": [
    "get(\"สวัสดีตอนเช้า คิดเถิงแต่เช้าเลย\")"
   ]
  },
  {
   "cell_type": "code",
   "execution_count": 265,
   "metadata": {},
   "outputs": [
    {
     "data": {
      "text/plain": [
       "'คิด<คำผิด>เถิ๊ง</คำผิด> คิด<คำผิด>เถิง</คำผิด> คิด<คำผิด>เถิ๊ง</คำผิด> คิด<คำผิด>เถิง</คำผิด> 🥰🥰🥰'"
      ]
     },
     "execution_count": 265,
     "metadata": {},
     "output_type": "execute_result"
    }
   ],
   "source": [
    "get(\"คิดเถิ๊ง คิดเถิง คิดเถิ๊ง คิดเถิง 🥰🥰🥰\")"
   ]
  },
  {
   "cell_type": "code",
   "execution_count": 266,
   "metadata": {},
   "outputs": [
    {
     "data": {
      "text/plain": [
       "'แจ่มสุดๆ ขอบคุณครับ<คำผิด>โผม</คำผิด>'"
      ]
     },
     "execution_count": 266,
     "metadata": {},
     "output_type": "execute_result"
    }
   ],
   "source": [
    "get(\"แจ่มสุดๆ ขอบคุณครับโผม\")"
   ]
  },
  {
   "cell_type": "code",
   "execution_count": 267,
   "metadata": {},
   "outputs": [
    {
     "data": {
      "text/plain": [
       "'จาก<คำผิด>โพสท์</คำผิด>ล่าสุดที่น้องพูดเรื่องตัดผมคือเริ่มต้นชีวิตใหม่'"
      ]
     },
     "execution_count": 267,
     "metadata": {},
     "output_type": "execute_result"
    }
   ],
   "source": [
    "get(\"จากโพสท์ล่าสุดที่น้องพูดเรื่องตัดผมคือเริ่มต้นชีวิตใหม่\")"
   ]
  },
  {
   "cell_type": "code",
   "execution_count": 268,
   "metadata": {},
   "outputs": [
    {
     "data": {
      "text/plain": [
       "'<คำผิด>เกียด</คำผิด>ท่า<คำผิด>โพสท์</คำผิด>55555555555555555555555'"
      ]
     },
     "execution_count": 268,
     "metadata": {},
     "output_type": "execute_result"
    }
   ],
   "source": [
    "get(\"เกียดท่าโพสท์55555555555555555555555\")"
   ]
  },
  {
   "cell_type": "code",
   "execution_count": 269,
   "metadata": {},
   "outputs": [
    {
     "data": {
      "text/plain": [
       "'<คำผิด>จิง</คำผิด>ใช่ไหม'"
      ]
     },
     "execution_count": 269,
     "metadata": {},
     "output_type": "execute_result"
    }
   ],
   "source": [
    "get(\"จิงใช่ไหม\")"
   ]
  },
  {
   "cell_type": "code",
   "execution_count": 270,
   "metadata": {},
   "outputs": [
    {
     "data": {
      "text/plain": [
       "'อิ<คำผิด>เหี้ยยย</คำผิด> <คำผิด>คอนเสิต</คำผิด> บรูโน มาร์ เก้าอี้ 4000 ได้นั่งเก้าอี้นี้จริงเหรอวะ เขร้! '"
      ]
     },
     "execution_count": 270,
     "metadata": {},
     "output_type": "execute_result"
    }
   ],
   "source": [
    "get(\"อิเหี้ยยย คอนเสิต บรูโน มาร์ เก้าอี้ 4000 ได้นั่งเก้าอี้นี้จริงเหรอวะ เขร้! \")"
   ]
  },
  {
   "cell_type": "code",
   "execution_count": 271,
   "metadata": {},
   "outputs": [
    {
     "data": {
      "text/plain": [
       "'มีขึ้น<คำผิด>สเตจ</คำผิด>มั้ย แฟนมีต ไฮทัช <คำผิด>คอนเสิต</คำผิด> ต้องมีแฟนช้านแท่งไฟอะไรมั้ย งงไปหมดแล้ว<คำผิด>จ่ะ</คำผิด>พี่จ๋า '"
      ]
     },
     "execution_count": 271,
     "metadata": {},
     "output_type": "execute_result"
    }
   ],
   "source": [
    "get(\"มีขึ้นสเตจมั้ย แฟนมีต ไฮทัช คอนเสิต ต้องมีแฟนช้านแท่งไฟอะไรมั้ย งงไปหมดแล้วจ่ะพี่จ๋า \")"
   ]
  },
  {
   "cell_type": "code",
   "execution_count": 272,
   "metadata": {},
   "outputs": [
    {
     "data": {
      "text/plain": [
       "'<คำผิด>คอนเสิต</คำผิด> ดีวีดีคอน จับมือล้านจังหวัด<คำผิด>ดดดเ</คำผิด>'"
      ]
     },
     "execution_count": 272,
     "metadata": {},
     "output_type": "execute_result"
    }
   ],
   "source": [
    "get(\"คอนเสิต ดีวีดีคอน จับมือล้านจังหวัดดดดเ\")"
   ]
  },
  {
   "cell_type": "code",
   "execution_count": 273,
   "metadata": {},
   "outputs": [
    {
     "data": {
      "text/plain": [
       "'นั่งรถผ่านบริเวณที่เป็นเนินสูงๆ เห็นบรรยากาศรอบ ๆ เป็นเหมือนหมอก แต่ที่จริงคือหมอกฝุ่น ... ไม่น่าเชื่อว่า <คำผิด>ขอ่่</คำผิด>ก่นจะมาถึงจุดนี้'"
      ]
     },
     "execution_count": 273,
     "metadata": {},
     "output_type": "execute_result"
    }
   ],
   "source": [
    "get(\"นั่งรถผ่านบริเวณที่เป็นเนินสูงๆ เห็นบรรยากาศรอบ ๆ เป็นเหมือนหมอก แต่ที่จริงคือหมอกฝุ่น ... ไม่น่าเชื่อว่า ขอ่่ก่นจะมาถึงจุดนี้\")"
   ]
  },
  {
   "cell_type": "code",
   "execution_count": 274,
   "metadata": {},
   "outputs": [
    {
     "data": {
      "text/plain": [
       "'จะเบอร์เกอร์หรือจะเฟรนช์ฟรายส์ ส่งฟรีทุกอย่างจาก Burger King ของอร่อยรออยู่น้า หิวแล้วสั่งเลย'"
      ]
     },
     "execution_count": 274,
     "metadata": {},
     "output_type": "execute_result"
    }
   ],
   "source": [
    "get(\"จะเบอร์เกอร์หรือจะเฟรนช์ฟรายส์ ส่งฟรีทุกอย่างจาก Burger King ของอร่อยรออยู่น้า หิวแล้วสั่งเลย\")"
   ]
  },
  {
   "cell_type": "code",
   "execution_count": 275,
   "metadata": {},
   "outputs": [
    {
     "data": {
      "text/plain": [
       "'หนังสืออ่าน<คำผิด>ด้</คำผิด>ดี'"
      ]
     },
     "execution_count": 275,
     "metadata": {},
     "output_type": "execute_result"
    }
   ],
   "source": [
    "get(\"หนังสืออ่านด้ดี\")"
   ]
  },
  {
   "cell_type": "code",
   "execution_count": 276,
   "metadata": {},
   "outputs": [
    {
     "data": {
      "text/plain": [
       "'ผมชอบที่<คำผิด>เเมว</คำผิด>กิน<คำผิด>ปลาทู่</คำผิด>'"
      ]
     },
     "execution_count": 276,
     "metadata": {},
     "output_type": "execute_result"
    }
   ],
   "source": [
    "get(\"ผมชอบที่เเมวกินปลาทู่\")"
   ]
  },
  {
   "cell_type": "code",
   "execution_count": 277,
   "metadata": {},
   "outputs": [
    {
     "data": {
      "text/plain": [
       "'น่ารักอีก<คำผิด>เเล้ว</คำผิด>ผมเลยกินปลาคับอิอิน่า<คำผิด>ลักกกก</คำผิด>จังขอ<คำผิด>ให</คำผิด>มีความสุก'"
      ]
     },
     "execution_count": 277,
     "metadata": {},
     "output_type": "execute_result"
    }
   ],
   "source": [
    "get(\"น่ารักอีกเเล้วผมเลยกินปลาคับอิอิน่าลักกกกจังขอใหมีความสุก\")"
   ]
  },
  {
   "cell_type": "code",
   "execution_count": 278,
   "metadata": {},
   "outputs": [
    {
     "data": {
      "text/plain": [
       "'ไม่มี<คำผิด>รถยย</คำผิด>เดินทางเลย'"
      ]
     },
     "execution_count": 278,
     "metadata": {},
     "output_type": "execute_result"
    }
   ],
   "source": [
    "get(\"ไม่มีรถยยเดินทางเลย\")"
   ]
  },
  {
   "cell_type": "code",
   "execution_count": 279,
   "metadata": {},
   "outputs": [
    {
     "data": {
      "text/plain": [
       "'<คำผิด>ทำใ้</คำผิด>การค้นหามันตรงขึ้นเยอะ'"
      ]
     },
     "execution_count": 279,
     "metadata": {},
     "output_type": "execute_result"
    }
   ],
   "source": [
    "get(\"ทำใ้การค้นหามันตรงขึ้นเยอะ\")"
   ]
  },
  {
   "cell_type": "code",
   "execution_count": 280,
   "metadata": {},
   "outputs": [
    {
     "data": {
      "text/plain": [
       "'ตอนทำ<คำผิด>เหน</คำผิด>เดินเชิดคอยาว<คำผิด>เปน</คำผิด>ยีราฟ<คำผิด>ยุ</คำผิด>'"
      ]
     },
     "execution_count": 280,
     "metadata": {},
     "output_type": "execute_result"
    }
   ],
   "source": [
    "get(\"ตอนทำเหนเดินเชิดคอยาวเปนยีราฟยุ\")"
   ]
  },
  {
   "cell_type": "code",
   "execution_count": null,
   "metadata": {},
   "outputs": [],
   "source": []
  }
 ],
 "metadata": {
  "kernelspec": {
   "display_name": "Python 3",
   "language": "python",
   "name": "python3"
  },
  "language_info": {
   "codemirror_mode": {
    "name": "ipython",
    "version": 3
   },
   "file_extension": ".py",
   "mimetype": "text/x-python",
   "name": "python",
   "nbconvert_exporter": "python",
   "pygments_lexer": "ipython3",
   "version": "3.7.0"
  }
 },
 "nbformat": 4,
 "nbformat_minor": 2
}
